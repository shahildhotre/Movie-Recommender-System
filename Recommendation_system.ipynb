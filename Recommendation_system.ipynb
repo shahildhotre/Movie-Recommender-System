{
  "cells": [
    {
      "cell_type": "code",
      "execution_count": null,
      "metadata": {
        "colab": {
          "base_uri": "https://localhost:8080/"
        },
        "id": "Th9jzobSbSLl",
        "outputId": "89e1672a-ec4e-4f98-a9c5-ee29c6f9876a"
      },
      "outputs": [
        {
          "output_type": "stream",
          "name": "stdout",
          "text": [
            "Mounted at /content/drive\n"
          ]
        }
      ],
      "source": [
        "from google.colab import drive\n",
        "drive.mount('/content/drive')"
      ]
    },
    {
      "cell_type": "code",
      "execution_count": null,
      "metadata": {
        "id": "trS2Pebn0cs1"
      },
      "outputs": [],
      "source": [
        "import tensorflow as tf\n",
        "from tensorflow import keras\n",
        "from keras.utils.vis_utils import plot_model"
      ]
    },
    {
      "cell_type": "code",
      "execution_count": null,
      "metadata": {
        "id": "olMzz5AN0p0r"
      },
      "outputs": [],
      "source": [
        "import numpy as np\n",
        "import pandas as pd\n",
        "from sklearn import metrics\n",
        "import matplotlib.pyplot as plt\n",
        "from sklearn.model_selection import train_test_split\n"
      ]
    },
    {
      "cell_type": "code",
      "execution_count": null,
      "metadata": {
        "id": "1lak0kLp0p3F"
      },
      "outputs": [],
      "source": [
        "data_set_dir = 'drive/MyDrive/ml-latest-small/'\n",
        "ratings_csv = data_set_dir + 'ratings.csv'\n",
        "movies_csv = data_set_dir + 'movies.csv'\n",
        "\n",
        "ratings_df = pd.read_csv(ratings_csv)\n",
        "movies_df = pd.read_csv(movies_csv)"
      ]
    },
    {
      "cell_type": "code",
      "execution_count": null,
      "metadata": {
        "colab": {
          "base_uri": "https://localhost:8080/"
        },
        "id": "gyVvMRL35yWv",
        "outputId": "75bcd47a-2149-4746-d391-7f5b8771e0f9"
      },
      "outputs": [
        {
          "output_type": "execute_result",
          "data": {
            "text/plain": [
              "(100836, 4)"
            ]
          },
          "metadata": {},
          "execution_count": 5
        }
      ],
      "source": [
        "ratings_df.shape"
      ]
    },
    {
      "cell_type": "code",
      "execution_count": null,
      "metadata": {
        "id": "FLiRKXFo6Cbl"
      },
      "outputs": [],
      "source": [
        "df = ratings_df.merge(movies_df, on='movieId').sort_values('userId')\n",
        "df = df.drop(columns=['timestamp'])"
      ]
    },
    {
      "cell_type": "code",
      "execution_count": null,
      "metadata": {
        "colab": {
          "base_uri": "https://localhost:8080/",
          "height": 424
        },
        "id": "bXo6auvF6Gxb",
        "outputId": "b9fcfdf6-42f8-4f5e-d9e9-69ffd3d9bc73"
      },
      "outputs": [
        {
          "output_type": "execute_result",
          "data": {
            "text/plain": [
              "        userId  movieId\n",
              "0            1        1\n",
              "12117        1     2389\n",
              "12126        1     2395\n",
              "12182        1     2406\n",
              "776          1       70\n",
              "...        ...      ...\n",
              "84152      610    51709\n",
              "26937      610      589\n",
              "69808      610    66097\n",
              "69820      610    71464\n",
              "100835     610   163981\n",
              "\n",
              "[100836 rows x 2 columns]"
            ],
            "text/html": [
              "\n",
              "  <div id=\"df-0d731046-cb24-4283-a095-22bf73a5b990\">\n",
              "    <div class=\"colab-df-container\">\n",
              "      <div>\n",
              "<style scoped>\n",
              "    .dataframe tbody tr th:only-of-type {\n",
              "        vertical-align: middle;\n",
              "    }\n",
              "\n",
              "    .dataframe tbody tr th {\n",
              "        vertical-align: top;\n",
              "    }\n",
              "\n",
              "    .dataframe thead th {\n",
              "        text-align: right;\n",
              "    }\n",
              "</style>\n",
              "<table border=\"1\" class=\"dataframe\">\n",
              "  <thead>\n",
              "    <tr style=\"text-align: right;\">\n",
              "      <th></th>\n",
              "      <th>userId</th>\n",
              "      <th>movieId</th>\n",
              "    </tr>\n",
              "  </thead>\n",
              "  <tbody>\n",
              "    <tr>\n",
              "      <th>0</th>\n",
              "      <td>1</td>\n",
              "      <td>1</td>\n",
              "    </tr>\n",
              "    <tr>\n",
              "      <th>12117</th>\n",
              "      <td>1</td>\n",
              "      <td>2389</td>\n",
              "    </tr>\n",
              "    <tr>\n",
              "      <th>12126</th>\n",
              "      <td>1</td>\n",
              "      <td>2395</td>\n",
              "    </tr>\n",
              "    <tr>\n",
              "      <th>12182</th>\n",
              "      <td>1</td>\n",
              "      <td>2406</td>\n",
              "    </tr>\n",
              "    <tr>\n",
              "      <th>776</th>\n",
              "      <td>1</td>\n",
              "      <td>70</td>\n",
              "    </tr>\n",
              "    <tr>\n",
              "      <th>...</th>\n",
              "      <td>...</td>\n",
              "      <td>...</td>\n",
              "    </tr>\n",
              "    <tr>\n",
              "      <th>84152</th>\n",
              "      <td>610</td>\n",
              "      <td>51709</td>\n",
              "    </tr>\n",
              "    <tr>\n",
              "      <th>26937</th>\n",
              "      <td>610</td>\n",
              "      <td>589</td>\n",
              "    </tr>\n",
              "    <tr>\n",
              "      <th>69808</th>\n",
              "      <td>610</td>\n",
              "      <td>66097</td>\n",
              "    </tr>\n",
              "    <tr>\n",
              "      <th>69820</th>\n",
              "      <td>610</td>\n",
              "      <td>71464</td>\n",
              "    </tr>\n",
              "    <tr>\n",
              "      <th>100835</th>\n",
              "      <td>610</td>\n",
              "      <td>163981</td>\n",
              "    </tr>\n",
              "  </tbody>\n",
              "</table>\n",
              "<p>100836 rows × 2 columns</p>\n",
              "</div>\n",
              "      <button class=\"colab-df-convert\" onclick=\"convertToInteractive('df-0d731046-cb24-4283-a095-22bf73a5b990')\"\n",
              "              title=\"Convert this dataframe to an interactive table.\"\n",
              "              style=\"display:none;\">\n",
              "        \n",
              "  <svg xmlns=\"http://www.w3.org/2000/svg\" height=\"24px\"viewBox=\"0 0 24 24\"\n",
              "       width=\"24px\">\n",
              "    <path d=\"M0 0h24v24H0V0z\" fill=\"none\"/>\n",
              "    <path d=\"M18.56 5.44l.94 2.06.94-2.06 2.06-.94-2.06-.94-.94-2.06-.94 2.06-2.06.94zm-11 1L8.5 8.5l.94-2.06 2.06-.94-2.06-.94L8.5 2.5l-.94 2.06-2.06.94zm10 10l.94 2.06.94-2.06 2.06-.94-2.06-.94-.94-2.06-.94 2.06-2.06.94z\"/><path d=\"M17.41 7.96l-1.37-1.37c-.4-.4-.92-.59-1.43-.59-.52 0-1.04.2-1.43.59L10.3 9.45l-7.72 7.72c-.78.78-.78 2.05 0 2.83L4 21.41c.39.39.9.59 1.41.59.51 0 1.02-.2 1.41-.59l7.78-7.78 2.81-2.81c.8-.78.8-2.07 0-2.86zM5.41 20L4 18.59l7.72-7.72 1.47 1.35L5.41 20z\"/>\n",
              "  </svg>\n",
              "      </button>\n",
              "      \n",
              "  <style>\n",
              "    .colab-df-container {\n",
              "      display:flex;\n",
              "      flex-wrap:wrap;\n",
              "      gap: 12px;\n",
              "    }\n",
              "\n",
              "    .colab-df-convert {\n",
              "      background-color: #E8F0FE;\n",
              "      border: none;\n",
              "      border-radius: 50%;\n",
              "      cursor: pointer;\n",
              "      display: none;\n",
              "      fill: #1967D2;\n",
              "      height: 32px;\n",
              "      padding: 0 0 0 0;\n",
              "      width: 32px;\n",
              "    }\n",
              "\n",
              "    .colab-df-convert:hover {\n",
              "      background-color: #E2EBFA;\n",
              "      box-shadow: 0px 1px 2px rgba(60, 64, 67, 0.3), 0px 1px 3px 1px rgba(60, 64, 67, 0.15);\n",
              "      fill: #174EA6;\n",
              "    }\n",
              "\n",
              "    [theme=dark] .colab-df-convert {\n",
              "      background-color: #3B4455;\n",
              "      fill: #D2E3FC;\n",
              "    }\n",
              "\n",
              "    [theme=dark] .colab-df-convert:hover {\n",
              "      background-color: #434B5C;\n",
              "      box-shadow: 0px 1px 3px 1px rgba(0, 0, 0, 0.15);\n",
              "      filter: drop-shadow(0px 1px 2px rgba(0, 0, 0, 0.3));\n",
              "      fill: #FFFFFF;\n",
              "    }\n",
              "  </style>\n",
              "\n",
              "      <script>\n",
              "        const buttonEl =\n",
              "          document.querySelector('#df-0d731046-cb24-4283-a095-22bf73a5b990 button.colab-df-convert');\n",
              "        buttonEl.style.display =\n",
              "          google.colab.kernel.accessAllowed ? 'block' : 'none';\n",
              "\n",
              "        async function convertToInteractive(key) {\n",
              "          const element = document.querySelector('#df-0d731046-cb24-4283-a095-22bf73a5b990');\n",
              "          const dataTable =\n",
              "            await google.colab.kernel.invokeFunction('convertToInteractive',\n",
              "                                                     [key], {});\n",
              "          if (!dataTable) return;\n",
              "\n",
              "          const docLinkHtml = 'Like what you see? Visit the ' +\n",
              "            '<a target=\"_blank\" href=https://colab.research.google.com/notebooks/data_table.ipynb>data table notebook</a>'\n",
              "            + ' to learn more about interactive tables.';\n",
              "          element.innerHTML = '';\n",
              "          dataTable['output_type'] = 'display_data';\n",
              "          await google.colab.output.renderOutput(dataTable, element);\n",
              "          const docLink = document.createElement('div');\n",
              "          docLink.innerHTML = docLinkHtml;\n",
              "          element.appendChild(docLink);\n",
              "        }\n",
              "      </script>\n",
              "    </div>\n",
              "  </div>\n",
              "  "
            ]
          },
          "metadata": {},
          "execution_count": 7
        }
      ],
      "source": [
        "X = df[['userId','movieId']]\n",
        "X"
      ]
    },
    {
      "cell_type": "code",
      "execution_count": null,
      "metadata": {
        "id": "0l6QyLlqOLgv"
      },
      "outputs": [],
      "source": [
        "y =  df['rating'] - np.mean(df['rating'])"
      ]
    },
    {
      "cell_type": "code",
      "execution_count": null,
      "metadata": {
        "id": "cBoLodWz6ZfS"
      },
      "outputs": [],
      "source": [
        "X_train, X_test, y_train, y_test = train_test_split(df[['userId','movieId']], y, test_size=0.2, random_state=42)"
      ]
    },
    {
      "cell_type": "markdown",
      "source": [
        "Using Keras and embedding to build a model"
      ],
      "metadata": {
        "id": "LKqKa2jIlYUU"
      }
    },
    {
      "cell_type": "code",
      "execution_count": null,
      "metadata": {
        "id": "K5XgwD3Q0p5V"
      },
      "outputs": [],
      "source": [
        "hidden_units = (32,4)\n",
        "movie_embedding_size = 8\n",
        "user_embedding_size = 8"
      ]
    },
    {
      "cell_type": "code",
      "execution_count": null,
      "metadata": {
        "id": "lTEUJff60p7x"
      },
      "outputs": [],
      "source": [
        "user_id_input = keras.Input(shape=(1,), name='user_id')\n",
        "movie_id_input = keras.Input(shape=(1,), name='movie_id')\n",
        "user_embedded = keras.layers.Embedding(df.userId.max()+1, user_embedding_size, \n",
        "                                       input_length=1, name='user_embedding')(user_id_input)\n",
        "movie_embedded = keras.layers.Embedding(df.movieId.max()+1, movie_embedding_size, \n",
        "                                        input_length=1, name='movie_embedding')(movie_id_input)\n",
        "# Concatenate the embeddings (and remove the useless extra dimension)\n",
        "concatenated = keras.layers.Concatenate()([user_embedded, movie_embedded])\n",
        "out = keras.layers.Flatten()(concatenated)"
      ]
    },
    {
      "cell_type": "code",
      "execution_count": null,
      "metadata": {
        "colab": {
          "base_uri": "https://localhost:8080/"
        },
        "id": "SQ-C4TuZ0p-Q",
        "outputId": "42b23bec-882b-42b2-cd7e-b5bffa609524"
      },
      "outputs": [
        {
          "output_type": "stream",
          "name": "stdout",
          "text": [
            "Model: \"model\"\n",
            "________________________________________________________________________________________\n",
            " Layer (type)                Output Shape       Param #   Connected to                  \n",
            "========================================================================================\n",
            " user_id (InputLayer)        [(None, 1)]        0         []                            \n",
            "                                                                                        \n",
            " movie_id (InputLayer)       [(None, 1)]        0         []                            \n",
            "                                                                                        \n",
            " user_embedding (Embedding)  (None, 1, 8)       4888      ['user_id[0][0]']             \n",
            "                                                                                        \n",
            " movie_embedding (Embedding)  (None, 1, 8)      1548880   ['movie_id[0][0]']            \n",
            "                                                                                        \n",
            " concatenate (Concatenate)   (None, 1, 16)      0         ['user_embedding[0][0]',      \n",
            "                                                           'movie_embedding[0][0]']     \n",
            "                                                                                        \n",
            " flatten (Flatten)           (None, 16)         0         ['concatenate[0][0]']         \n",
            "                                                                                        \n",
            " dense (Dense)               (None, 32)         544       ['flatten[0][0]']             \n",
            "                                                                                        \n",
            " dense_1 (Dense)             (None, 4)          132       ['dense[0][0]']               \n",
            "                                                                                        \n",
            " prediction (Dense)          (None, 1)          5         ['dense_1[0][0]']             \n",
            "                                                                                        \n",
            "========================================================================================\n",
            "Total params: 1,554,449\n",
            "Trainable params: 1,554,449\n",
            "Non-trainable params: 0\n",
            "________________________________________________________________________________________\n"
          ]
        }
      ],
      "source": [
        "for n_hidden in hidden_units:\n",
        "    out = keras.layers.Dense(n_hidden, activation='relu')(out)\n",
        "\n",
        "# A single output: our predicted rating\n",
        "out = keras.layers.Dense(1, activation='linear', name='prediction')(out)\n",
        "\n",
        "model = keras.Model(\n",
        "    inputs = [user_id_input, movie_id_input],\n",
        "    outputs = out,\n",
        ")\n",
        "model.summary(line_length=88)"
      ]
    },
    {
      "cell_type": "code",
      "source": [
        "plot_model(model, to_file='model_plot.png', show_shapes=True, show_layer_names=True)\n"
      ],
      "metadata": {
        "colab": {
          "base_uri": "https://localhost:8080/",
          "height": 745
        },
        "id": "K9jAwQlBdKni",
        "outputId": "05ac271d-0598-49b7-8d9b-1070d9d693b3"
      },
      "execution_count": null,
      "outputs": [
        {
          "output_type": "execute_result",
          "data": {
            "image/png": "[encoded data removed]",
            "text/plain": [
              "<IPython.core.display.Image object>"
            ]
          },
          "metadata": {},
          "execution_count": 17
        }
      ]
    },
    {
      "cell_type": "code",
      "execution_count": null,
      "metadata": {
        "id": "tA-CPmXn0qBo"
      },
      "outputs": [],
      "source": [
        "model.compile(\n",
        "    # Technical note: when using embedding layers, I highly recommend using one of the optimizers\n",
        "    # found  in tf.train: https://www.tensorflow.org/api_guides/python/train#Optimizers\n",
        "    # Passing in a string like 'adam' or 'SGD' will load one of keras's optimizers (found under \n",
        "    # tf.keras.optimizers). They seem to be much slower on problems like this, because they\n",
        "    # don't efficiently handle sparse gradient updates.\n",
        "    tf.optimizers.Adam(0.01),\n",
        "    # tf.train.Adam(0.005),\n",
        "    loss='MSE',\n",
        "    metrics=['MAE'],\n",
        ")"
      ]
    },
    {
      "cell_type": "code",
      "execution_count": null,
      "metadata": {
        "colab": {
          "background_save": true,
          "base_uri": "https://localhost:8080/"
        },
        "id": "aLNg5vyo9QAD",
        "outputId": "d51479c6-d3f0-4d78-de5b-9e4421711b5e"
      },
      "outputs": [
        {
          "name": "stdout",
          "output_type": "stream",
          "text": [
            "Epoch 1/20\n",
            "3801/3801 [==============================] - 217s 56ms/step - loss: 0.7304 - MAE: 0.6514 - val_loss: 0.6946 - val_MAE: 0.6392\n",
            "Epoch 2/20\n",
            "3801/3801 [==============================] - 198s 52ms/step - loss: 0.6678 - MAE: 0.6212 - val_loss: 0.6764 - val_MAE: 0.6283\n",
            "Epoch 3/20\n",
            "3801/3801 [==============================] - 183s 48ms/step - loss: 0.6400 - MAE: 0.6075 - val_loss: 0.6587 - val_MAE: 0.6171\n",
            "Epoch 4/20\n",
            "3801/3801 [==============================] - 179s 47ms/step - loss: 0.6203 - MAE: 0.5977 - val_loss: 0.6556 - val_MAE: 0.6194\n",
            "Epoch 5/20\n",
            "3801/3801 [==============================] - 188s 50ms/step - loss: 0.6073 - MAE: 0.5910 - val_loss: 0.6492 - val_MAE: 0.6105\n",
            "Epoch 6/20\n",
            "3801/3801 [==============================] - 189s 50ms/step - loss: 0.5984 - MAE: 0.5864 - val_loss: 0.6486 - val_MAE: 0.6091\n",
            "Epoch 7/20\n",
            "3801/3801 [==============================] - 183s 48ms/step - loss: 0.5917 - MAE: 0.5829 - val_loss: 0.6473 - val_MAE: 0.6117\n",
            "Epoch 8/20\n",
            "3801/3801 [==============================] - 192s 51ms/step - loss: 0.5866 - MAE: 0.5802 - val_loss: 0.6496 - val_MAE: 0.6095\n",
            "Epoch 9/20\n",
            "3801/3801 [==============================] - 194s 51ms/step - loss: 0.5826 - MAE: 0.5780 - val_loss: 0.6525 - val_MAE: 0.6162\n",
            "Epoch 10/20\n",
            "1482/3801 [==========>...................] - ETA: 2:00 - loss: 0.5701 - MAE: 0.5714"
          ]
        }
      ],
      "source": [
        "history = model.fit(\n",
        "    [X_train.userId, X_train.movieId],\n",
        "    y_train,\n",
        "    batch_size=5000,\n",
        "    epochs=20,\n",
        "    verbose=1,\n",
        "    validation_split=.05,\n",
        ");"
      ]
    },
    {
      "cell_type": "markdown",
      "source": [
        "Mean Absolute Error plot"
      ],
      "metadata": {
        "id": "2AYTDVuZlx8Y"
      }
    },
    {
      "cell_type": "code",
      "execution_count": null,
      "metadata": {
        "colab": {
          "base_uri": "https://localhost:8080/",
          "height": 435
        },
        "id": "Riy562NMGyZV",
        "outputId": "275a40b5-a66a-4086-f59a-c83cc8cc82fc"
      },
      "outputs": [
        {
          "data": {
            "image/png": "[encoded data removed]",
            "text/plain": [
              "<Figure size 1080x432 with 1 Axes>"
            ]
          },
          "metadata": {},
          "output_type": "display_data"
        }
      ],
      "source": [
        "fig, ax = plt.subplots(figsize=(15, 6))\n",
        "ax.plot(history.epoch, history.history['val_MAE'], label='Validation MAE')\n",
        "ax.plot(history.epoch, history.history['MAE'], label='Training MAE')\n",
        "ax.set_xlabel('Epoch')\n",
        "ax.set_ylabel('Mean Absolute Error')\n",
        "ax.set_xlim(left=0, right=history.epoch[-1])\n",
        "baseline_mae = 0.73\n",
        "ax.axhline(baseline_mae, ls='--', label='Baseline', color='#002255', alpha=.5)\n",
        "ax.grid()\n",
        "fig.legend();"
      ]
    },
    {
      "cell_type": "code",
      "execution_count": null,
      "metadata": {
        "colab": {
          "base_uri": "https://localhost:8080/"
        },
        "id": "wsgNpLHOUk6y",
        "outputId": "a32dc50e-13c3-47e9-d780-d573b8183d50"
      },
      "outputs": [
        {
          "name": "stdout",
          "output_type": "stream",
          "text": [
            "631/631 [==============================] - 1s 1ms/step\n"
          ]
        }
      ],
      "source": [
        "y_pred = model.predict([X_test.userId, X_test.movieId]) "
      ]
    },
    {
      "cell_type": "code",
      "execution_count": null,
      "metadata": {
        "colab": {
          "base_uri": "https://localhost:8080/"
        },
        "id": "VjiIv1IOVe5O",
        "outputId": "016bfb12-d2b4-4b0c-c3bd-8f76f4edcba6"
      },
      "outputs": [
        {
          "data": {
            "text/plain": [
              "0.7164772830898174"
            ]
          },
          "execution_count": 22,
          "metadata": {},
          "output_type": "execute_result"
        }
      ],
      "source": [
        "metrics.mean_absolute_error(y_test, y_pred)"
      ]
    },
    {
      "cell_type": "code",
      "execution_count": null,
      "metadata": {
        "colab": {
          "base_uri": "https://localhost:8080/",
          "height": 206
        },
        "id": "9fglog_tdCvf",
        "outputId": "ff0af69e-291e-4363-a584-b3e7428ce396"
      },
      "outputs": [
        {
          "data": {
            "text/html": [
              "\n",
              "  <div id=\"df-e33bbfae-54e0-4fe6-b8bd-ab95b62609e4\">\n",
              "    <div class=\"colab-df-container\">\n",
              "      <div>\n",
              "<style scoped>\n",
              "    .dataframe tbody tr th:only-of-type {\n",
              "        vertical-align: middle;\n",
              "    }\n",
              "\n",
              "    .dataframe tbody tr th {\n",
              "        vertical-align: top;\n",
              "    }\n",
              "\n",
              "    .dataframe thead th {\n",
              "        text-align: right;\n",
              "    }\n",
              "</style>\n",
              "<table border=\"1\" class=\"dataframe\">\n",
              "  <thead>\n",
              "    <tr style=\"text-align: right;\">\n",
              "      <th></th>\n",
              "      <th>userId</th>\n",
              "      <th>movieId</th>\n",
              "      <th>rating</th>\n",
              "      <th>title</th>\n",
              "      <th>genres</th>\n",
              "    </tr>\n",
              "  </thead>\n",
              "  <tbody>\n",
              "    <tr>\n",
              "      <th>23713</th>\n",
              "      <td>4</td>\n",
              "      <td>3365</td>\n",
              "      <td>5.0</td>\n",
              "      <td>Searchers, The (1956)</td>\n",
              "      <td>Drama|Western</td>\n",
              "    </tr>\n",
              "    <tr>\n",
              "      <th>23419</th>\n",
              "      <td>4</td>\n",
              "      <td>2926</td>\n",
              "      <td>5.0</td>\n",
              "      <td>Hairspray (1988)</td>\n",
              "      <td>Comedy|Drama</td>\n",
              "    </tr>\n",
              "    <tr>\n",
              "      <th>11105</th>\n",
              "      <td>4</td>\n",
              "      <td>2078</td>\n",
              "      <td>5.0</td>\n",
              "      <td>Jungle Book, The (1967)</td>\n",
              "      <td>Animation|Children|Comedy|Musical</td>\n",
              "    </tr>\n",
              "    <tr>\n",
              "      <th>22814</th>\n",
              "      <td>4</td>\n",
              "      <td>2599</td>\n",
              "      <td>5.0</td>\n",
              "      <td>Election (1999)</td>\n",
              "      <td>Comedy</td>\n",
              "    </tr>\n",
              "    <tr>\n",
              "      <th>22802</th>\n",
              "      <td>4</td>\n",
              "      <td>2583</td>\n",
              "      <td>5.0</td>\n",
              "      <td>Cookie's Fortune (1999)</td>\n",
              "      <td>Comedy|Drama</td>\n",
              "    </tr>\n",
              "  </tbody>\n",
              "</table>\n",
              "</div>\n",
              "      <button class=\"colab-df-convert\" onclick=\"convertToInteractive('df-e33bbfae-54e0-4fe6-b8bd-ab95b62609e4')\"\n",
              "              title=\"Convert this dataframe to an interactive table.\"\n",
              "              style=\"display:none;\">\n",
              "        \n",
              "  <svg xmlns=\"http://www.w3.org/2000/svg\" height=\"24px\"viewBox=\"0 0 24 24\"\n",
              "       width=\"24px\">\n",
              "    <path d=\"M0 0h24v24H0V0z\" fill=\"none\"/>\n",
              "    <path d=\"M18.56 5.44l.94 2.06.94-2.06 2.06-.94-2.06-.94-.94-2.06-.94 2.06-2.06.94zm-11 1L8.5 8.5l.94-2.06 2.06-.94-2.06-.94L8.5 2.5l-.94 2.06-2.06.94zm10 10l.94 2.06.94-2.06 2.06-.94-2.06-.94-.94-2.06-.94 2.06-2.06.94z\"/><path d=\"M17.41 7.96l-1.37-1.37c-.4-.4-.92-.59-1.43-.59-.52 0-1.04.2-1.43.59L10.3 9.45l-7.72 7.72c-.78.78-.78 2.05 0 2.83L4 21.41c.39.39.9.59 1.41.59.51 0 1.02-.2 1.41-.59l7.78-7.78 2.81-2.81c.8-.78.8-2.07 0-2.86zM5.41 20L4 18.59l7.72-7.72 1.47 1.35L5.41 20z\"/>\n",
              "  </svg>\n",
              "      </button>\n",
              "      \n",
              "  <style>\n",
              "    .colab-df-container {\n",
              "      display:flex;\n",
              "      flex-wrap:wrap;\n",
              "      gap: 12px;\n",
              "    }\n",
              "\n",
              "    .colab-df-convert {\n",
              "      background-color: #E8F0FE;\n",
              "      border: none;\n",
              "      border-radius: 50%;\n",
              "      cursor: pointer;\n",
              "      display: none;\n",
              "      fill: #1967D2;\n",
              "      height: 32px;\n",
              "      padding: 0 0 0 0;\n",
              "      width: 32px;\n",
              "    }\n",
              "\n",
              "    .colab-df-convert:hover {\n",
              "      background-color: #E2EBFA;\n",
              "      box-shadow: 0px 1px 2px rgba(60, 64, 67, 0.3), 0px 1px 3px 1px rgba(60, 64, 67, 0.15);\n",
              "      fill: #174EA6;\n",
              "    }\n",
              "\n",
              "    [theme=dark] .colab-df-convert {\n",
              "      background-color: #3B4455;\n",
              "      fill: #D2E3FC;\n",
              "    }\n",
              "\n",
              "    [theme=dark] .colab-df-convert:hover {\n",
              "      background-color: #434B5C;\n",
              "      box-shadow: 0px 1px 3px 1px rgba(0, 0, 0, 0.15);\n",
              "      filter: drop-shadow(0px 1px 2px rgba(0, 0, 0, 0.3));\n",
              "      fill: #FFFFFF;\n",
              "    }\n",
              "  </style>\n",
              "\n",
              "      <script>\n",
              "        const buttonEl =\n",
              "          document.querySelector('#df-e33bbfae-54e0-4fe6-b8bd-ab95b62609e4 button.colab-df-convert');\n",
              "        buttonEl.style.display =\n",
              "          google.colab.kernel.accessAllowed ? 'block' : 'none';\n",
              "\n",
              "        async function convertToInteractive(key) {\n",
              "          const element = document.querySelector('#df-e33bbfae-54e0-4fe6-b8bd-ab95b62609e4');\n",
              "          const dataTable =\n",
              "            await google.colab.kernel.invokeFunction('convertToInteractive',\n",
              "                                                     [key], {});\n",
              "          if (!dataTable) return;\n",
              "\n",
              "          const docLinkHtml = 'Like what you see? Visit the ' +\n",
              "            '<a target=\"_blank\" href=https://colab.research.google.com/notebooks/data_table.ipynb>data table notebook</a>'\n",
              "            + ' to learn more about interactive tables.';\n",
              "          element.innerHTML = '';\n",
              "          dataTable['output_type'] = 'display_data';\n",
              "          await google.colab.output.renderOutput(dataTable, element);\n",
              "          const docLink = document.createElement('div');\n",
              "          docLink.innerHTML = docLinkHtml;\n",
              "          element.appendChild(docLink);\n",
              "        }\n",
              "      </script>\n",
              "    </div>\n",
              "  </div>\n",
              "  "
            ],
            "text/plain": [
              "       userId  movieId  rating                    title  \\\n",
              "23713       4     3365     5.0    Searchers, The (1956)   \n",
              "23419       4     2926     5.0         Hairspray (1988)   \n",
              "11105       4     2078     5.0  Jungle Book, The (1967)   \n",
              "22814       4     2599     5.0          Election (1999)   \n",
              "22802       4     2583     5.0  Cookie's Fortune (1999)   \n",
              "\n",
              "                                  genres  \n",
              "23713                      Drama|Western  \n",
              "23419                       Comedy|Drama  \n",
              "11105  Animation|Children|Comedy|Musical  \n",
              "22814                             Comedy  \n",
              "22802                       Comedy|Drama  "
            ]
          },
          "execution_count": 24,
          "metadata": {},
          "output_type": "execute_result"
        }
      ],
      "source": [
        "new_df = df[df[\"userId\"]==4]\n",
        "new_df.sort_values(by = ['rating'], ascending = False).head()"
      ]
    },
    {
      "cell_type": "code",
      "execution_count": null,
      "metadata": {
        "id": "fB0a5HIdYk8o"
      },
      "outputs": [],
      "source": [
        "X_new = new_df[['userId','movieId']]"
      ]
    },
    {
      "cell_type": "code",
      "execution_count": null,
      "metadata": {
        "colab": {
          "base_uri": "https://localhost:8080/",
          "height": 424
        },
        "id": "wMdrPzZZmeGK",
        "outputId": "7ef6adb8-e701-48c3-e840-0ff901c5b646"
      },
      "outputs": [
        {
          "data": {
            "text/html": [
              "\n",
              "  <div id=\"df-bcaf3ca3-9402-46b7-bf37-b9d1e52555d0\">\n",
              "    <div class=\"colab-df-container\">\n",
              "      <div>\n",
              "<style scoped>\n",
              "    .dataframe tbody tr th:only-of-type {\n",
              "        vertical-align: middle;\n",
              "    }\n",
              "\n",
              "    .dataframe tbody tr th {\n",
              "        vertical-align: top;\n",
              "    }\n",
              "\n",
              "    .dataframe thead th {\n",
              "        text-align: right;\n",
              "    }\n",
              "</style>\n",
              "<table border=\"1\" class=\"dataframe\">\n",
              "  <thead>\n",
              "    <tr style=\"text-align: right;\">\n",
              "      <th></th>\n",
              "      <th>userId</th>\n",
              "      <th>movieId</th>\n",
              "      <th>title</th>\n",
              "      <th>genres</th>\n",
              "    </tr>\n",
              "  </thead>\n",
              "  <tbody>\n",
              "    <tr>\n",
              "      <th>0</th>\n",
              "      <td>4</td>\n",
              "      <td>1094</td>\n",
              "      <td>Crying Game, The (1992)</td>\n",
              "      <td>Drama|Romance|Thriller</td>\n",
              "    </tr>\n",
              "    <tr>\n",
              "      <th>1</th>\n",
              "      <td>4</td>\n",
              "      <td>1103</td>\n",
              "      <td>Rebel Without a Cause (1955)</td>\n",
              "      <td>Drama</td>\n",
              "    </tr>\n",
              "    <tr>\n",
              "      <th>2</th>\n",
              "      <td>4</td>\n",
              "      <td>1179</td>\n",
              "      <td>Grifters, The (1990)</td>\n",
              "      <td>Crime|Drama|Film-Noir</td>\n",
              "    </tr>\n",
              "    <tr>\n",
              "      <th>3</th>\n",
              "      <td>4</td>\n",
              "      <td>1183</td>\n",
              "      <td>English Patient, The (1996)</td>\n",
              "      <td>Drama|Romance|War</td>\n",
              "    </tr>\n",
              "    <tr>\n",
              "      <th>4</th>\n",
              "      <td>4</td>\n",
              "      <td>1188</td>\n",
              "      <td>Strictly Ballroom (1992)</td>\n",
              "      <td>Comedy|Romance</td>\n",
              "    </tr>\n",
              "    <tr>\n",
              "      <th>...</th>\n",
              "      <td>...</td>\n",
              "      <td>...</td>\n",
              "      <td>...</td>\n",
              "      <td>...</td>\n",
              "    </tr>\n",
              "    <tr>\n",
              "      <th>211</th>\n",
              "      <td>4</td>\n",
              "      <td>3508</td>\n",
              "      <td>Outlaw Josey Wales, The (1976)</td>\n",
              "      <td>Action|Adventure|Drama|Thriller|Western</td>\n",
              "    </tr>\n",
              "    <tr>\n",
              "      <th>212</th>\n",
              "      <td>4</td>\n",
              "      <td>3481</td>\n",
              "      <td>High Fidelity (2000)</td>\n",
              "      <td>Comedy|Drama|Romance</td>\n",
              "    </tr>\n",
              "    <tr>\n",
              "      <th>213</th>\n",
              "      <td>4</td>\n",
              "      <td>3851</td>\n",
              "      <td>I'm the One That I Want (2000)</td>\n",
              "      <td>Comedy</td>\n",
              "    </tr>\n",
              "    <tr>\n",
              "      <th>214</th>\n",
              "      <td>4</td>\n",
              "      <td>3408</td>\n",
              "      <td>Erin Brockovich (2000)</td>\n",
              "      <td>Drama</td>\n",
              "    </tr>\n",
              "    <tr>\n",
              "      <th>215</th>\n",
              "      <td>4</td>\n",
              "      <td>3365</td>\n",
              "      <td>Searchers, The (1956)</td>\n",
              "      <td>Drama|Western</td>\n",
              "    </tr>\n",
              "  </tbody>\n",
              "</table>\n",
              "<p>216 rows × 4 columns</p>\n",
              "</div>\n",
              "      <button class=\"colab-df-convert\" onclick=\"convertToInteractive('df-bcaf3ca3-9402-46b7-bf37-b9d1e52555d0')\"\n",
              "              title=\"Convert this dataframe to an interactive table.\"\n",
              "              style=\"display:none;\">\n",
              "        \n",
              "  <svg xmlns=\"http://www.w3.org/2000/svg\" height=\"24px\"viewBox=\"0 0 24 24\"\n",
              "       width=\"24px\">\n",
              "    <path d=\"M0 0h24v24H0V0z\" fill=\"none\"/>\n",
              "    <path d=\"M18.56 5.44l.94 2.06.94-2.06 2.06-.94-2.06-.94-.94-2.06-.94 2.06-2.06.94zm-11 1L8.5 8.5l.94-2.06 2.06-.94-2.06-.94L8.5 2.5l-.94 2.06-2.06.94zm10 10l.94 2.06.94-2.06 2.06-.94-2.06-.94-.94-2.06-.94 2.06-2.06.94z\"/><path d=\"M17.41 7.96l-1.37-1.37c-.4-.4-.92-.59-1.43-.59-.52 0-1.04.2-1.43.59L10.3 9.45l-7.72 7.72c-.78.78-.78 2.05 0 2.83L4 21.41c.39.39.9.59 1.41.59.51 0 1.02-.2 1.41-.59l7.78-7.78 2.81-2.81c.8-.78.8-2.07 0-2.86zM5.41 20L4 18.59l7.72-7.72 1.47 1.35L5.41 20z\"/>\n",
              "  </svg>\n",
              "      </button>\n",
              "      \n",
              "  <style>\n",
              "    .colab-df-container {\n",
              "      display:flex;\n",
              "      flex-wrap:wrap;\n",
              "      gap: 12px;\n",
              "    }\n",
              "\n",
              "    .colab-df-convert {\n",
              "      background-color: #E8F0FE;\n",
              "      border: none;\n",
              "      border-radius: 50%;\n",
              "      cursor: pointer;\n",
              "      display: none;\n",
              "      fill: #1967D2;\n",
              "      height: 32px;\n",
              "      padding: 0 0 0 0;\n",
              "      width: 32px;\n",
              "    }\n",
              "\n",
              "    .colab-df-convert:hover {\n",
              "      background-color: #E2EBFA;\n",
              "      box-shadow: 0px 1px 2px rgba(60, 64, 67, 0.3), 0px 1px 3px 1px rgba(60, 64, 67, 0.15);\n",
              "      fill: #174EA6;\n",
              "    }\n",
              "\n",
              "    [theme=dark] .colab-df-convert {\n",
              "      background-color: #3B4455;\n",
              "      fill: #D2E3FC;\n",
              "    }\n",
              "\n",
              "    [theme=dark] .colab-df-convert:hover {\n",
              "      background-color: #434B5C;\n",
              "      box-shadow: 0px 1px 3px 1px rgba(0, 0, 0, 0.15);\n",
              "      filter: drop-shadow(0px 1px 2px rgba(0, 0, 0, 0.3));\n",
              "      fill: #FFFFFF;\n",
              "    }\n",
              "  </style>\n",
              "\n",
              "      <script>\n",
              "        const buttonEl =\n",
              "          document.querySelector('#df-bcaf3ca3-9402-46b7-bf37-b9d1e52555d0 button.colab-df-convert');\n",
              "        buttonEl.style.display =\n",
              "          google.colab.kernel.accessAllowed ? 'block' : 'none';\n",
              "\n",
              "        async function convertToInteractive(key) {\n",
              "          const element = document.querySelector('#df-bcaf3ca3-9402-46b7-bf37-b9d1e52555d0');\n",
              "          const dataTable =\n",
              "            await google.colab.kernel.invokeFunction('convertToInteractive',\n",
              "                                                     [key], {});\n",
              "          if (!dataTable) return;\n",
              "\n",
              "          const docLinkHtml = 'Like what you see? Visit the ' +\n",
              "            '<a target=\"_blank\" href=https://colab.research.google.com/notebooks/data_table.ipynb>data table notebook</a>'\n",
              "            + ' to learn more about interactive tables.';\n",
              "          element.innerHTML = '';\n",
              "          dataTable['output_type'] = 'display_data';\n",
              "          await google.colab.output.renderOutput(dataTable, element);\n",
              "          const docLink = document.createElement('div');\n",
              "          docLink.innerHTML = docLinkHtml;\n",
              "          element.appendChild(docLink);\n",
              "        }\n",
              "      </script>\n",
              "    </div>\n",
              "  </div>\n",
              "  "
            ],
            "text/plain": [
              "     userId  movieId                           title  \\\n",
              "0         4     1094         Crying Game, The (1992)   \n",
              "1         4     1103    Rebel Without a Cause (1955)   \n",
              "2         4     1179            Grifters, The (1990)   \n",
              "3         4     1183     English Patient, The (1996)   \n",
              "4         4     1188        Strictly Ballroom (1992)   \n",
              "..      ...      ...                             ...   \n",
              "211       4     3508  Outlaw Josey Wales, The (1976)   \n",
              "212       4     3481            High Fidelity (2000)   \n",
              "213       4     3851  I'm the One That I Want (2000)   \n",
              "214       4     3408          Erin Brockovich (2000)   \n",
              "215       4     3365           Searchers, The (1956)   \n",
              "\n",
              "                                      genres  \n",
              "0                     Drama|Romance|Thriller  \n",
              "1                                      Drama  \n",
              "2                      Crime|Drama|Film-Noir  \n",
              "3                          Drama|Romance|War  \n",
              "4                             Comedy|Romance  \n",
              "..                                       ...  \n",
              "211  Action|Adventure|Drama|Thriller|Western  \n",
              "212                     Comedy|Drama|Romance  \n",
              "213                                   Comedy  \n",
              "214                                    Drama  \n",
              "215                            Drama|Western  \n",
              "\n",
              "[216 rows x 4 columns]"
            ]
          },
          "execution_count": 26,
          "metadata": {},
          "output_type": "execute_result"
        }
      ],
      "source": [
        "X_new.merge(movies_df, on='movieId')"
      ]
    },
    {
      "cell_type": "code",
      "execution_count": null,
      "metadata": {
        "id": "oH429B9hdN-r"
      },
      "outputs": [],
      "source": [
        "y_new = new_df[['rating']]"
      ]
    },
    {
      "cell_type": "code",
      "execution_count": null,
      "metadata": {
        "id": "MeUs4wFReqWG"
      },
      "outputs": [],
      "source": [
        "original_movie_list = movies_df['movieId']"
      ]
    },
    {
      "cell_type": "code",
      "execution_count": null,
      "metadata": {
        "id": "2eqDmqmlgtwo"
      },
      "outputs": [],
      "source": [
        "l_guy = set(X_new[\"movieId\"])\n",
        "l_all = set(original_movie_list)\n",
        "l_test = l_all - l_guy"
      ]
    },
    {
      "cell_type": "code",
      "execution_count": null,
      "metadata": {
        "colab": {
          "base_uri": "https://localhost:8080/",
          "height": 424
        },
        "id": "ikRquowmjbJp",
        "outputId": "f06696b0-b8ed-47fd-c3fd-d66c03d8cb0e"
      },
      "outputs": [
        {
          "data": {
            "text/html": [
              "\n",
              "  <div id=\"df-611ef6e9-1873-4b96-9e1b-a1662bf0abc6\">\n",
              "    <div class=\"colab-df-container\">\n",
              "      <div>\n",
              "<style scoped>\n",
              "    .dataframe tbody tr th:only-of-type {\n",
              "        vertical-align: middle;\n",
              "    }\n",
              "\n",
              "    .dataframe tbody tr th {\n",
              "        vertical-align: top;\n",
              "    }\n",
              "\n",
              "    .dataframe thead th {\n",
              "        text-align: right;\n",
              "    }\n",
              "</style>\n",
              "<table border=\"1\" class=\"dataframe\">\n",
              "  <thead>\n",
              "    <tr style=\"text-align: right;\">\n",
              "      <th></th>\n",
              "      <th>movieId</th>\n",
              "      <th>userId</th>\n",
              "    </tr>\n",
              "  </thead>\n",
              "  <tbody>\n",
              "    <tr>\n",
              "      <th>0</th>\n",
              "      <td>1</td>\n",
              "      <td>4</td>\n",
              "    </tr>\n",
              "    <tr>\n",
              "      <th>1</th>\n",
              "      <td>2</td>\n",
              "      <td>4</td>\n",
              "    </tr>\n",
              "    <tr>\n",
              "      <th>2</th>\n",
              "      <td>3</td>\n",
              "      <td>4</td>\n",
              "    </tr>\n",
              "    <tr>\n",
              "      <th>3</th>\n",
              "      <td>4</td>\n",
              "      <td>4</td>\n",
              "    </tr>\n",
              "    <tr>\n",
              "      <th>4</th>\n",
              "      <td>5</td>\n",
              "      <td>4</td>\n",
              "    </tr>\n",
              "    <tr>\n",
              "      <th>...</th>\n",
              "      <td>...</td>\n",
              "      <td>...</td>\n",
              "    </tr>\n",
              "    <tr>\n",
              "      <th>9521</th>\n",
              "      <td>163809</td>\n",
              "      <td>4</td>\n",
              "    </tr>\n",
              "    <tr>\n",
              "      <th>9522</th>\n",
              "      <td>32743</td>\n",
              "      <td>4</td>\n",
              "    </tr>\n",
              "    <tr>\n",
              "      <th>9523</th>\n",
              "      <td>98279</td>\n",
              "      <td>4</td>\n",
              "    </tr>\n",
              "    <tr>\n",
              "      <th>9524</th>\n",
              "      <td>65514</td>\n",
              "      <td>4</td>\n",
              "    </tr>\n",
              "    <tr>\n",
              "      <th>9525</th>\n",
              "      <td>98296</td>\n",
              "      <td>4</td>\n",
              "    </tr>\n",
              "  </tbody>\n",
              "</table>\n",
              "<p>9526 rows × 2 columns</p>\n",
              "</div>\n",
              "      <button class=\"colab-df-convert\" onclick=\"convertToInteractive('df-611ef6e9-1873-4b96-9e1b-a1662bf0abc6')\"\n",
              "              title=\"Convert this dataframe to an interactive table.\"\n",
              "              style=\"display:none;\">\n",
              "        \n",
              "  <svg xmlns=\"http://www.w3.org/2000/svg\" height=\"24px\"viewBox=\"0 0 24 24\"\n",
              "       width=\"24px\">\n",
              "    <path d=\"M0 0h24v24H0V0z\" fill=\"none\"/>\n",
              "    <path d=\"M18.56 5.44l.94 2.06.94-2.06 2.06-.94-2.06-.94-.94-2.06-.94 2.06-2.06.94zm-11 1L8.5 8.5l.94-2.06 2.06-.94-2.06-.94L8.5 2.5l-.94 2.06-2.06.94zm10 10l.94 2.06.94-2.06 2.06-.94-2.06-.94-.94-2.06-.94 2.06-2.06.94z\"/><path d=\"M17.41 7.96l-1.37-1.37c-.4-.4-.92-.59-1.43-.59-.52 0-1.04.2-1.43.59L10.3 9.45l-7.72 7.72c-.78.78-.78 2.05 0 2.83L4 21.41c.39.39.9.59 1.41.59.51 0 1.02-.2 1.41-.59l7.78-7.78 2.81-2.81c.8-.78.8-2.07 0-2.86zM5.41 20L4 18.59l7.72-7.72 1.47 1.35L5.41 20z\"/>\n",
              "  </svg>\n",
              "      </button>\n",
              "      \n",
              "  <style>\n",
              "    .colab-df-container {\n",
              "      display:flex;\n",
              "      flex-wrap:wrap;\n",
              "      gap: 12px;\n",
              "    }\n",
              "\n",
              "    .colab-df-convert {\n",
              "      background-color: #E8F0FE;\n",
              "      border: none;\n",
              "      border-radius: 50%;\n",
              "      cursor: pointer;\n",
              "      display: none;\n",
              "      fill: #1967D2;\n",
              "      height: 32px;\n",
              "      padding: 0 0 0 0;\n",
              "      width: 32px;\n",
              "    }\n",
              "\n",
              "    .colab-df-convert:hover {\n",
              "      background-color: #E2EBFA;\n",
              "      box-shadow: 0px 1px 2px rgba(60, 64, 67, 0.3), 0px 1px 3px 1px rgba(60, 64, 67, 0.15);\n",
              "      fill: #174EA6;\n",
              "    }\n",
              "\n",
              "    [theme=dark] .colab-df-convert {\n",
              "      background-color: #3B4455;\n",
              "      fill: #D2E3FC;\n",
              "    }\n",
              "\n",
              "    [theme=dark] .colab-df-convert:hover {\n",
              "      background-color: #434B5C;\n",
              "      box-shadow: 0px 1px 3px 1px rgba(0, 0, 0, 0.15);\n",
              "      filter: drop-shadow(0px 1px 2px rgba(0, 0, 0, 0.3));\n",
              "      fill: #FFFFFF;\n",
              "    }\n",
              "  </style>\n",
              "\n",
              "      <script>\n",
              "        const buttonEl =\n",
              "          document.querySelector('#df-611ef6e9-1873-4b96-9e1b-a1662bf0abc6 button.colab-df-convert');\n",
              "        buttonEl.style.display =\n",
              "          google.colab.kernel.accessAllowed ? 'block' : 'none';\n",
              "\n",
              "        async function convertToInteractive(key) {\n",
              "          const element = document.querySelector('#df-611ef6e9-1873-4b96-9e1b-a1662bf0abc6');\n",
              "          const dataTable =\n",
              "            await google.colab.kernel.invokeFunction('convertToInteractive',\n",
              "                                                     [key], {});\n",
              "          if (!dataTable) return;\n",
              "\n",
              "          const docLinkHtml = 'Like what you see? Visit the ' +\n",
              "            '<a target=\"_blank\" href=https://colab.research.google.com/notebooks/data_table.ipynb>data table notebook</a>'\n",
              "            + ' to learn more about interactive tables.';\n",
              "          element.innerHTML = '';\n",
              "          dataTable['output_type'] = 'display_data';\n",
              "          await google.colab.output.renderOutput(dataTable, element);\n",
              "          const docLink = document.createElement('div');\n",
              "          docLink.innerHTML = docLinkHtml;\n",
              "          element.appendChild(docLink);\n",
              "        }\n",
              "      </script>\n",
              "    </div>\n",
              "  </div>\n",
              "  "
            ],
            "text/plain": [
              "      movieId  userId\n",
              "0           1       4\n",
              "1           2       4\n",
              "2           3       4\n",
              "3           4       4\n",
              "4           5       4\n",
              "...       ...     ...\n",
              "9521   163809       4\n",
              "9522    32743       4\n",
              "9523    98279       4\n",
              "9524    65514       4\n",
              "9525    98296       4\n",
              "\n",
              "[9526 rows x 2 columns]"
            ]
          },
          "execution_count": 30,
          "metadata": {},
          "output_type": "execute_result"
        }
      ],
      "source": [
        "df_new = pd.DataFrame()\n",
        "df_new[\"movieId\"] = list(l_test)\n",
        "df_new['userId'] = 4\n",
        "df_new"
      ]
    },
    {
      "cell_type": "code",
      "execution_count": null,
      "metadata": {
        "colab": {
          "base_uri": "https://localhost:8080/"
        },
        "id": "J_W4q1IGkdHy",
        "outputId": "aa5711de-f211-4069-8010-4a6b930da4aa"
      },
      "outputs": [
        {
          "name": "stdout",
          "output_type": "stream",
          "text": [
            "298/298 [==============================] - 0s 1ms/step\n"
          ]
        }
      ],
      "source": [
        "y_new_guy = model.predict([df_new['userId'], df_new[\"movieId\"]])"
      ]
    },
    {
      "cell_type": "code",
      "execution_count": null,
      "metadata": {
        "colab": {
          "base_uri": "https://localhost:8080/"
        },
        "id": "0tNWbNV9kpLC",
        "outputId": "aeb2b438-85f2-4234-8bf7-a4eeb0f9dd4a"
      },
      "outputs": [
        {
          "data": {
            "text/plain": [
              "array([[-0.25433585],\n",
              "       [-1.1255326 ],\n",
              "       [-1.528007  ],\n",
              "       ...,\n",
              "       [ 0.94990087],\n",
              "       [-0.6530261 ],\n",
              "       [-1.0443072 ]], dtype=float32)"
            ]
          },
          "execution_count": 32,
          "metadata": {},
          "output_type": "execute_result"
        }
      ],
      "source": [
        "y_new_guy"
      ]
    },
    {
      "cell_type": "code",
      "execution_count": null,
      "metadata": {
        "id": "FNvrpIoNkvV2"
      },
      "outputs": [],
      "source": [
        "df_new['rating'] = y_new_guy\n"
      ]
    },
    {
      "cell_type": "code",
      "execution_count": null,
      "metadata": {
        "id": "04EPspLLk2Rf"
      },
      "outputs": [],
      "source": [
        "df_new1 = df_new.sort_values(by = [\"rating\"] , ascending = False)"
      ]
    },
    {
      "cell_type": "code",
      "execution_count": null,
      "metadata": {
        "colab": {
          "base_uri": "https://localhost:8080/"
        },
        "id": "AXlbXNiwoLWQ",
        "outputId": "150acd47-4dfa-4f59-e566-603e30b6031b"
      },
      "outputs": [
        {
          "data": {
            "text/plain": [
              "3.501556983616962"
            ]
          },
          "execution_count": 35,
          "metadata": {},
          "output_type": "execute_result"
        }
      ],
      "source": [
        "np.mean(df['rating'])"
      ]
    },
    {
      "cell_type": "code",
      "execution_count": null,
      "metadata": {
        "id": "i53_T1MvlaAf"
      },
      "outputs": [],
      "source": [
        "df_predicted_movies = df_new1.merge(movies_df, on='movieId').head()"
      ]
    },
    {
      "cell_type": "code",
      "execution_count": null,
      "metadata": {
        "colab": {
          "base_uri": "https://localhost:8080/",
          "height": 206
        },
        "id": "2S0mZKo6mUut",
        "outputId": "b15e59a7-a6b1-436f-fac6-01d9f75feaf2"
      },
      "outputs": [
        {
          "data": {
            "text/html": [
              "\n",
              "  <div id=\"df-509f5fc5-f6ab-4ab2-99f3-57024835c4d1\">\n",
              "    <div class=\"colab-df-container\">\n",
              "      <div>\n",
              "<style scoped>\n",
              "    .dataframe tbody tr th:only-of-type {\n",
              "        vertical-align: middle;\n",
              "    }\n",
              "\n",
              "    .dataframe tbody tr th {\n",
              "        vertical-align: top;\n",
              "    }\n",
              "\n",
              "    .dataframe thead th {\n",
              "        text-align: right;\n",
              "    }\n",
              "</style>\n",
              "<table border=\"1\" class=\"dataframe\">\n",
              "  <thead>\n",
              "    <tr style=\"text-align: right;\">\n",
              "      <th></th>\n",
              "      <th>movieId</th>\n",
              "      <th>userId</th>\n",
              "      <th>rating</th>\n",
              "      <th>title</th>\n",
              "      <th>genres</th>\n",
              "    </tr>\n",
              "  </thead>\n",
              "  <tbody>\n",
              "    <tr>\n",
              "      <th>0</th>\n",
              "      <td>47736</td>\n",
              "      <td>4</td>\n",
              "      <td>1.899158</td>\n",
              "      <td>Chump at Oxford, A (1940)</td>\n",
              "      <td>Comedy</td>\n",
              "    </tr>\n",
              "    <tr>\n",
              "      <th>1</th>\n",
              "      <td>149350</td>\n",
              "      <td>4</td>\n",
              "      <td>1.880095</td>\n",
              "      <td>Lumberjack Man (2015)</td>\n",
              "      <td>Comedy|Horror</td>\n",
              "    </tr>\n",
              "    <tr>\n",
              "      <th>2</th>\n",
              "      <td>69211</td>\n",
              "      <td>4</td>\n",
              "      <td>1.867170</td>\n",
              "      <td>Boy Eats Girl (2005)</td>\n",
              "      <td>Comedy|Horror</td>\n",
              "    </tr>\n",
              "    <tr>\n",
              "      <th>3</th>\n",
              "      <td>132153</td>\n",
              "      <td>4</td>\n",
              "      <td>1.827228</td>\n",
              "      <td>Buzzard (2015)</td>\n",
              "      <td>Comedy|Drama|Horror</td>\n",
              "    </tr>\n",
              "    <tr>\n",
              "      <th>4</th>\n",
              "      <td>136353</td>\n",
              "      <td>4</td>\n",
              "      <td>1.823526</td>\n",
              "      <td>Scooby-Doo! and the Loch Ness Monster (2004)</td>\n",
              "      <td>Animation|Children|Comedy</td>\n",
              "    </tr>\n",
              "  </tbody>\n",
              "</table>\n",
              "</div>\n",
              "      <button class=\"colab-df-convert\" onclick=\"convertToInteractive('df-509f5fc5-f6ab-4ab2-99f3-57024835c4d1')\"\n",
              "              title=\"Convert this dataframe to an interactive table.\"\n",
              "              style=\"display:none;\">\n",
              "        \n",
              "  <svg xmlns=\"http://www.w3.org/2000/svg\" height=\"24px\"viewBox=\"0 0 24 24\"\n",
              "       width=\"24px\">\n",
              "    <path d=\"M0 0h24v24H0V0z\" fill=\"none\"/>\n",
              "    <path d=\"M18.56 5.44l.94 2.06.94-2.06 2.06-.94-2.06-.94-.94-2.06-.94 2.06-2.06.94zm-11 1L8.5 8.5l.94-2.06 2.06-.94-2.06-.94L8.5 2.5l-.94 2.06-2.06.94zm10 10l.94 2.06.94-2.06 2.06-.94-2.06-.94-.94-2.06-.94 2.06-2.06.94z\"/><path d=\"M17.41 7.96l-1.37-1.37c-.4-.4-.92-.59-1.43-.59-.52 0-1.04.2-1.43.59L10.3 9.45l-7.72 7.72c-.78.78-.78 2.05 0 2.83L4 21.41c.39.39.9.59 1.41.59.51 0 1.02-.2 1.41-.59l7.78-7.78 2.81-2.81c.8-.78.8-2.07 0-2.86zM5.41 20L4 18.59l7.72-7.72 1.47 1.35L5.41 20z\"/>\n",
              "  </svg>\n",
              "      </button>\n",
              "      \n",
              "  <style>\n",
              "    .colab-df-container {\n",
              "      display:flex;\n",
              "      flex-wrap:wrap;\n",
              "      gap: 12px;\n",
              "    }\n",
              "\n",
              "    .colab-df-convert {\n",
              "      background-color: #E8F0FE;\n",
              "      border: none;\n",
              "      border-radius: 50%;\n",
              "      cursor: pointer;\n",
              "      display: none;\n",
              "      fill: #1967D2;\n",
              "      height: 32px;\n",
              "      padding: 0 0 0 0;\n",
              "      width: 32px;\n",
              "    }\n",
              "\n",
              "    .colab-df-convert:hover {\n",
              "      background-color: #E2EBFA;\n",
              "      box-shadow: 0px 1px 2px rgba(60, 64, 67, 0.3), 0px 1px 3px 1px rgba(60, 64, 67, 0.15);\n",
              "      fill: #174EA6;\n",
              "    }\n",
              "\n",
              "    [theme=dark] .colab-df-convert {\n",
              "      background-color: #3B4455;\n",
              "      fill: #D2E3FC;\n",
              "    }\n",
              "\n",
              "    [theme=dark] .colab-df-convert:hover {\n",
              "      background-color: #434B5C;\n",
              "      box-shadow: 0px 1px 3px 1px rgba(0, 0, 0, 0.15);\n",
              "      filter: drop-shadow(0px 1px 2px rgba(0, 0, 0, 0.3));\n",
              "      fill: #FFFFFF;\n",
              "    }\n",
              "  </style>\n",
              "\n",
              "      <script>\n",
              "        const buttonEl =\n",
              "          document.querySelector('#df-509f5fc5-f6ab-4ab2-99f3-57024835c4d1 button.colab-df-convert');\n",
              "        buttonEl.style.display =\n",
              "          google.colab.kernel.accessAllowed ? 'block' : 'none';\n",
              "\n",
              "        async function convertToInteractive(key) {\n",
              "          const element = document.querySelector('#df-509f5fc5-f6ab-4ab2-99f3-57024835c4d1');\n",
              "          const dataTable =\n",
              "            await google.colab.kernel.invokeFunction('convertToInteractive',\n",
              "                                                     [key], {});\n",
              "          if (!dataTable) return;\n",
              "\n",
              "          const docLinkHtml = 'Like what you see? Visit the ' +\n",
              "            '<a target=\"_blank\" href=https://colab.research.google.com/notebooks/data_table.ipynb>data table notebook</a>'\n",
              "            + ' to learn more about interactive tables.';\n",
              "          element.innerHTML = '';\n",
              "          dataTable['output_type'] = 'display_data';\n",
              "          await google.colab.output.renderOutput(dataTable, element);\n",
              "          const docLink = document.createElement('div');\n",
              "          docLink.innerHTML = docLinkHtml;\n",
              "          element.appendChild(docLink);\n",
              "        }\n",
              "      </script>\n",
              "    </div>\n",
              "  </div>\n",
              "  "
            ],
            "text/plain": [
              "   movieId  userId    rating                                         title  \\\n",
              "0    47736       4  1.899158                     Chump at Oxford, A (1940)   \n",
              "1   149350       4  1.880095                         Lumberjack Man (2015)   \n",
              "2    69211       4  1.867170                          Boy Eats Girl (2005)   \n",
              "3   132153       4  1.827228                                Buzzard (2015)   \n",
              "4   136353       4  1.823526  Scooby-Doo! and the Loch Ness Monster (2004)   \n",
              "\n",
              "                      genres  \n",
              "0                     Comedy  \n",
              "1              Comedy|Horror  \n",
              "2              Comedy|Horror  \n",
              "3        Comedy|Drama|Horror  \n",
              "4  Animation|Children|Comedy  "
            ]
          },
          "execution_count": 37,
          "metadata": {},
          "output_type": "execute_result"
        }
      ],
      "source": [
        "df_predicted_movies"
      ]
    },
    {
      "cell_type": "markdown",
      "metadata": {
        "id": "6V8zBlilJSQv"
      },
      "source": [
        "USING DIFFERENT HIDDEN LAYERS"
      ]
    },
    {
      "cell_type": "code",
      "execution_count": null,
      "metadata": {
        "id": "-5MIQ1amIEIn"
      },
      "outputs": [],
      "source": [
        "hidden_units = (32,4)\n",
        "movie_embedding_size = 8\n",
        "user_embedding_size = 8"
      ]
    },
    {
      "cell_type": "code",
      "execution_count": null,
      "metadata": {
        "colab": {
          "base_uri": "https://localhost:8080/"
        },
        "id": "oUn-AzykJc6a",
        "outputId": "eaa90ab8-76d1-4aaa-c5f3-b7d6d9e965ad"
      },
      "outputs": [
        {
          "name": "stdout",
          "output_type": "stream",
          "text": [
            "Model: \"model_3\"\n",
            "________________________________________________________________________________________\n",
            " Layer (type)                Output Shape       Param #   Connected to                  \n",
            "========================================================================================\n",
            " user_id (InputLayer)        [(None, 1)]        0         []                            \n",
            "                                                                                        \n",
            " movie_id (InputLayer)       [(None, 1)]        0         []                            \n",
            "                                                                                        \n",
            " user_embedding (Embedding)  (None, 1, 8)       4888      ['user_id[0][0]']             \n",
            "                                                                                        \n",
            " movie_embedding (Embedding)  (None, 1, 8)      1548880   ['movie_id[0][0]']            \n",
            "                                                                                        \n",
            " concatenate_3 (Concatenate)  (None, 1, 16)     0         ['user_embedding[0][0]',      \n",
            "                                                           'movie_embedding[0][0]']     \n",
            "                                                                                        \n",
            " flatten_3 (Flatten)         (None, 16)         0         ['concatenate_3[0][0]']       \n",
            "                                                                                        \n",
            " dense_3 (Dense)             (None, 32)         544       ['flatten_3[0][0]']           \n",
            "                                                                                        \n",
            " dense_4 (Dense)             (None, 4)          132       ['dense_3[0][0]']             \n",
            "                                                                                        \n",
            " prediction (Dense)          (None, 1)          5         ['dense_4[0][0]']             \n",
            "                                                                                        \n",
            "========================================================================================\n",
            "Total params: 1,554,449\n",
            "Trainable params: 1,554,449\n",
            "Non-trainable params: 0\n",
            "________________________________________________________________________________________\n"
          ]
        }
      ],
      "source": [
        "user_id_input = keras.Input(shape=(1,), name='user_id')\n",
        "movie_id_input = keras.Input(shape=(1,), name='movie_id')\n",
        "user_embedded = keras.layers.Embedding(df.userId.max()+1, user_embedding_size, \n",
        "                                       input_length=1, name='user_embedding')(user_id_input)\n",
        "movie_embedded = keras.layers.Embedding(df.movieId.max()+1, movie_embedding_size, \n",
        "                                        input_length=1, name='movie_embedding')(movie_id_input)\n",
        "# Concatenate the embeddings (and remove the useless extra dimension)\n",
        "concatenated = keras.layers.Concatenate()([user_embedded, movie_embedded])\n",
        "out = keras.layers.Flatten()(concatenated)\n",
        "\n",
        "for n_hidden in hidden_units:\n",
        "    out = keras.layers.Dense(n_hidden, activation='relu')(out)\n",
        "\n",
        "# A single output: our predicted rating\n",
        "out = keras.layers.Dense(1, activation='linear', name='prediction')(out)\n",
        "\n",
        "model = keras.Model(\n",
        "    inputs = [user_id_input, movie_id_input],\n",
        "    outputs = out,\n",
        ")\n",
        "model.summary(line_length=88)"
      ]
    },
    {
      "cell_type": "code",
      "execution_count": null,
      "metadata": {
        "id": "6hZwA2L0Jc07"
      },
      "outputs": [],
      "source": [
        "model.compile(\n",
        "    # Technical note: when using embedding layers, I highly recommend using one of the optimizers\n",
        "    # found  in tf.train: https://www.tensorflow.org/api_guides/python/train#Optimizers\n",
        "    # Passing in a string like 'adam' or 'SGD' will load one of keras's optimizers (found under \n",
        "    # tf.keras.optimizers). They seem to be much slower on problems like this, because they\n",
        "    # don't efficiently handle sparse gradient updates.\n",
        "    tf.optimizers.Adam(0.005),\n",
        "    # tf.train.Adam(0.005),\n",
        "    loss='MSE',\n",
        "    metrics=['MAE'],\n",
        ")"
      ]
    },
    {
      "cell_type": "code",
      "execution_count": null,
      "metadata": {
        "colab": {
          "base_uri": "https://localhost:8080/"
        },
        "id": "W9e306vgJcyl",
        "outputId": "abd4b445-fdba-4ff5-acc8-ac9b27210a0e"
      },
      "outputs": [
        {
          "name": "stdout",
          "output_type": "stream",
          "text": [
            "Epoch 1/20\n",
            "16/16 [==============================] - 1s 21ms/step - loss: 1.0065 - MAE: 0.7949 - val_loss: 0.8819 - val_MAE: 0.7278\n",
            "Epoch 2/20\n",
            "16/16 [==============================] - 0s 14ms/step - loss: 0.7547 - MAE: 0.6657 - val_loss: 0.7798 - val_MAE: 0.6895\n",
            "Epoch 3/20\n",
            "16/16 [==============================] - 0s 14ms/step - loss: 0.6666 - MAE: 0.6246 - val_loss: 0.7673 - val_MAE: 0.6829\n",
            "Epoch 4/20\n",
            "16/16 [==============================] - 0s 13ms/step - loss: 0.6357 - MAE: 0.6077 - val_loss: 0.7656 - val_MAE: 0.6813\n",
            "Epoch 5/20\n",
            "16/16 [==============================] - 0s 14ms/step - loss: 0.6177 - MAE: 0.5968 - val_loss: 0.7656 - val_MAE: 0.6783\n",
            "Epoch 6/20\n",
            "16/16 [==============================] - 0s 12ms/step - loss: 0.6046 - MAE: 0.5889 - val_loss: 0.7618 - val_MAE: 0.6764\n",
            "Epoch 7/20\n",
            "16/16 [==============================] - 0s 13ms/step - loss: 0.5940 - MAE: 0.5821 - val_loss: 0.7599 - val_MAE: 0.6746\n",
            "Epoch 8/20\n",
            "16/16 [==============================] - 0s 13ms/step - loss: 0.5827 - MAE: 0.5755 - val_loss: 0.7613 - val_MAE: 0.6732\n",
            "Epoch 9/20\n",
            "16/16 [==============================] - 0s 13ms/step - loss: 0.5714 - MAE: 0.5686 - val_loss: 0.7647 - val_MAE: 0.6725\n",
            "Epoch 10/20\n",
            "16/16 [==============================] - 0s 13ms/step - loss: 0.5583 - MAE: 0.5605 - val_loss: 0.7691 - val_MAE: 0.6743\n",
            "Epoch 11/20\n",
            "16/16 [==============================] - 0s 12ms/step - loss: 0.5448 - MAE: 0.5525 - val_loss: 0.7763 - val_MAE: 0.6761\n",
            "Epoch 12/20\n",
            "16/16 [==============================] - 0s 14ms/step - loss: 0.5306 - MAE: 0.5444 - val_loss: 0.7807 - val_MAE: 0.6768\n",
            "Epoch 13/20\n",
            "16/16 [==============================] - 0s 13ms/step - loss: 0.5171 - MAE: 0.5367 - val_loss: 0.7882 - val_MAE: 0.6823\n",
            "Epoch 14/20\n",
            "16/16 [==============================] - 0s 13ms/step - loss: 0.5023 - MAE: 0.5281 - val_loss: 0.7996 - val_MAE: 0.6888\n",
            "Epoch 15/20\n",
            "16/16 [==============================] - 0s 14ms/step - loss: 0.4889 - MAE: 0.5195 - val_loss: 0.8102 - val_MAE: 0.6941\n",
            "Epoch 16/20\n",
            "16/16 [==============================] - 0s 12ms/step - loss: 0.4763 - MAE: 0.5122 - val_loss: 0.8145 - val_MAE: 0.6963\n",
            "Epoch 17/20\n",
            "16/16 [==============================] - 0s 13ms/step - loss: 0.4644 - MAE: 0.5056 - val_loss: 0.8278 - val_MAE: 0.6992\n",
            "Epoch 18/20\n",
            "16/16 [==============================] - 0s 13ms/step - loss: 0.4537 - MAE: 0.4985 - val_loss: 0.8391 - val_MAE: 0.7048\n",
            "Epoch 19/20\n",
            "16/16 [==============================] - 0s 13ms/step - loss: 0.4447 - MAE: 0.4940 - val_loss: 0.8414 - val_MAE: 0.7032\n",
            "Epoch 20/20\n",
            "16/16 [==============================] - 0s 13ms/step - loss: 0.4363 - MAE: 0.4888 - val_loss: 0.8468 - val_MAE: 0.7074\n"
          ]
        }
      ],
      "source": [
        "history = model.fit(\n",
        "    [X_train.userId, X_train.movieId],\n",
        "    y_train,\n",
        "    batch_size=5000,\n",
        "    epochs=20,\n",
        "    verbose=1,\n",
        "    validation_split=.05,\n",
        ");"
      ]
    },
    {
      "cell_type": "code",
      "execution_count": null,
      "metadata": {
        "colab": {
          "base_uri": "https://localhost:8080/"
        },
        "id": "YScg1MyeMSxp",
        "outputId": "56dd545e-46fa-4c2f-c4b4-f883a7c30dd6"
      },
      "outputs": [
        {
          "name": "stdout",
          "output_type": "stream",
          "text": [
            "631/631 [==============================] - 1s 863us/step\n"
          ]
        }
      ],
      "source": [
        "y_pred = model.predict([X_test.userId, X_test.movieId]) "
      ]
    },
    {
      "cell_type": "code",
      "execution_count": null,
      "metadata": {
        "colab": {
          "base_uri": "https://localhost:8080/"
        },
        "id": "EK8kBrSbJct9",
        "outputId": "5fe19259-5a22-41b1-bb7e-c10250c79b67"
      },
      "outputs": [
        {
          "data": {
            "text/plain": [
              "0.7146836212461919"
            ]
          },
          "execution_count": 35,
          "metadata": {},
          "output_type": "execute_result"
        }
      ],
      "source": [
        "metrics.mean_absolute_error(y_test, y_pred)"
      ]
    },
    {
      "cell_type": "code",
      "execution_count": null,
      "metadata": {
        "colab": {
          "base_uri": "https://localhost:8080/",
          "height": 376
        },
        "id": "XxPGS1srJcwM",
        "outputId": "d8fc0eb4-4eb8-4873-b9f8-f8df036a9c5d"
      },
      "outputs": [
        {
          "data": {
            "image/png": "[encoded data removed]",
            "text/plain": [
              "<Figure size 1080x432 with 1 Axes>"
            ]
          },
          "metadata": {},
          "output_type": "display_data"
        }
      ],
      "source": [
        "fig, ax = plt.subplots(figsize=(15, 6))\n",
        "ax.plot(history.epoch, history.history['val_MAE'], label='Validation MAE')\n",
        "ax.plot(history.epoch, history.history['MAE'], label='Training MAE')\n",
        "ax.set_xlabel('Epoch')\n",
        "ax.set_ylabel('Mean Absolute Error')\n",
        "ax.set_xlim(left=0, right=history.epoch[-1])\n",
        "baseline_mae = 0.73\n",
        "ax.axhline(baseline_mae, ls='--', label='Baseline', color='#002255', alpha=.5)\n",
        "ax.grid()\n",
        "fig.legend();"
      ]
    },
    {
      "cell_type": "code",
      "execution_count": null,
      "metadata": {
        "id": "flP2m7LkSx2_"
      },
      "outputs": [],
      "source": []
    },
    {
      "cell_type": "markdown",
      "metadata": {
        "id": "iV9L-GwndX1V"
      },
      "source": [
        "# New User\n",
        "\n",
        "Recommending movie to new users by mapping them to existing users"
      ]
    },
    {
      "cell_type": "code",
      "execution_count": null,
      "metadata": {
        "id": "7SnwS9eadZwn"
      },
      "outputs": [],
      "source": [
        "new_user_ratings = {59315:5, 88140: 4, 106072:3, 122892:3.5, 122904:5}\n",
        "# sorted_new_user_ratings = list(new_user_ratings.items()).sort(key = lambda item: item[1])"
      ]
    },
    {
      "cell_type": "markdown",
      "metadata": {
        "id": "HPJ5eZEVeyuX"
      },
      "source": [
        "SImilar user"
      ]
    },
    {
      "cell_type": "code",
      "execution_count": null,
      "metadata": {
        "colab": {
          "base_uri": "https://localhost:8080/"
        },
        "id": "-jHt4zGHe6w3",
        "outputId": "f411e1e2-8cc3-4a79-df95-d41a6155b262"
      },
      "outputs": [
        {
          "output_type": "execute_result",
          "data": {
            "text/plain": [
              "dict_keys([59315, 88140, 106072, 122892, 122904])"
            ]
          },
          "metadata": {},
          "execution_count": 10
        }
      ],
      "source": [
        "new_user_ratings.keys()"
      ]
    },
    {
      "cell_type": "code",
      "execution_count": null,
      "metadata": {
        "id": "-XgLoNdafZuM"
      },
      "outputs": [],
      "source": [
        "genres_df = movies_df['genres'].str.split('|', expand=True)\n"
      ]
    },
    {
      "cell_type": "code",
      "execution_count": null,
      "metadata": {
        "colab": {
          "base_uri": "https://localhost:8080/"
        },
        "id": "topMLd9ihund",
        "outputId": "84a2ec59-baf2-4d11-8ad2-8a5459dc515e"
      },
      "outputs": [
        {
          "output_type": "execute_result",
          "data": {
            "text/plain": [
              "numpy.ndarray"
            ]
          },
          "metadata": {},
          "execution_count": 12
        }
      ],
      "source": [
        "genres = genres_df[0].unique()\n",
        "type(genres)"
      ]
    },
    {
      "cell_type": "code",
      "execution_count": null,
      "metadata": {
        "id": "G3eMlifu0GBi"
      },
      "outputs": [],
      "source": [
        "from scipy import stats"
      ]
    },
    {
      "cell_type": "code",
      "execution_count": null,
      "metadata": {
        "colab": {
          "base_uri": "https://localhost:8080/",
          "height": 206
        },
        "id": "3kpNUxaSmX7F",
        "outputId": "a705721b-d9e3-4363-98e2-4d5a35c3c70f"
      },
      "outputs": [
        {
          "output_type": "execute_result",
          "data": {
            "text/plain": [
              "   userId genre\n",
              "0       1   NaN\n",
              "1       2   NaN\n",
              "2       3   NaN\n",
              "3       4   NaN\n",
              "4       5   NaN"
            ],
            "text/html": [
              "\n",
              "  <div id=\"df-30e864a3-a181-4c01-8109-131da76cf31d\">\n",
              "    <div class=\"colab-df-container\">\n",
              "      <div>\n",
              "<style scoped>\n",
              "    .dataframe tbody tr th:only-of-type {\n",
              "        vertical-align: middle;\n",
              "    }\n",
              "\n",
              "    .dataframe tbody tr th {\n",
              "        vertical-align: top;\n",
              "    }\n",
              "\n",
              "    .dataframe thead th {\n",
              "        text-align: right;\n",
              "    }\n",
              "</style>\n",
              "<table border=\"1\" class=\"dataframe\">\n",
              "  <thead>\n",
              "    <tr style=\"text-align: right;\">\n",
              "      <th></th>\n",
              "      <th>userId</th>\n",
              "      <th>genre</th>\n",
              "    </tr>\n",
              "  </thead>\n",
              "  <tbody>\n",
              "    <tr>\n",
              "      <th>0</th>\n",
              "      <td>1</td>\n",
              "      <td>NaN</td>\n",
              "    </tr>\n",
              "    <tr>\n",
              "      <th>1</th>\n",
              "      <td>2</td>\n",
              "      <td>NaN</td>\n",
              "    </tr>\n",
              "    <tr>\n",
              "      <th>2</th>\n",
              "      <td>3</td>\n",
              "      <td>NaN</td>\n",
              "    </tr>\n",
              "    <tr>\n",
              "      <th>3</th>\n",
              "      <td>4</td>\n",
              "      <td>NaN</td>\n",
              "    </tr>\n",
              "    <tr>\n",
              "      <th>4</th>\n",
              "      <td>5</td>\n",
              "      <td>NaN</td>\n",
              "    </tr>\n",
              "  </tbody>\n",
              "</table>\n",
              "</div>\n",
              "      <button class=\"colab-df-convert\" onclick=\"convertToInteractive('df-30e864a3-a181-4c01-8109-131da76cf31d')\"\n",
              "              title=\"Convert this dataframe to an interactive table.\"\n",
              "              style=\"display:none;\">\n",
              "        \n",
              "  <svg xmlns=\"http://www.w3.org/2000/svg\" height=\"24px\"viewBox=\"0 0 24 24\"\n",
              "       width=\"24px\">\n",
              "    <path d=\"M0 0h24v24H0V0z\" fill=\"none\"/>\n",
              "    <path d=\"M18.56 5.44l.94 2.06.94-2.06 2.06-.94-2.06-.94-.94-2.06-.94 2.06-2.06.94zm-11 1L8.5 8.5l.94-2.06 2.06-.94-2.06-.94L8.5 2.5l-.94 2.06-2.06.94zm10 10l.94 2.06.94-2.06 2.06-.94-2.06-.94-.94-2.06-.94 2.06-2.06.94z\"/><path d=\"M17.41 7.96l-1.37-1.37c-.4-.4-.92-.59-1.43-.59-.52 0-1.04.2-1.43.59L10.3 9.45l-7.72 7.72c-.78.78-.78 2.05 0 2.83L4 21.41c.39.39.9.59 1.41.59.51 0 1.02-.2 1.41-.59l7.78-7.78 2.81-2.81c.8-.78.8-2.07 0-2.86zM5.41 20L4 18.59l7.72-7.72 1.47 1.35L5.41 20z\"/>\n",
              "  </svg>\n",
              "      </button>\n",
              "      \n",
              "  <style>\n",
              "    .colab-df-container {\n",
              "      display:flex;\n",
              "      flex-wrap:wrap;\n",
              "      gap: 12px;\n",
              "    }\n",
              "\n",
              "    .colab-df-convert {\n",
              "      background-color: #E8F0FE;\n",
              "      border: none;\n",
              "      border-radius: 50%;\n",
              "      cursor: pointer;\n",
              "      display: none;\n",
              "      fill: #1967D2;\n",
              "      height: 32px;\n",
              "      padding: 0 0 0 0;\n",
              "      width: 32px;\n",
              "    }\n",
              "\n",
              "    .colab-df-convert:hover {\n",
              "      background-color: #E2EBFA;\n",
              "      box-shadow: 0px 1px 2px rgba(60, 64, 67, 0.3), 0px 1px 3px 1px rgba(60, 64, 67, 0.15);\n",
              "      fill: #174EA6;\n",
              "    }\n",
              "\n",
              "    [theme=dark] .colab-df-convert {\n",
              "      background-color: #3B4455;\n",
              "      fill: #D2E3FC;\n",
              "    }\n",
              "\n",
              "    [theme=dark] .colab-df-convert:hover {\n",
              "      background-color: #434B5C;\n",
              "      box-shadow: 0px 1px 3px 1px rgba(0, 0, 0, 0.15);\n",
              "      filter: drop-shadow(0px 1px 2px rgba(0, 0, 0, 0.3));\n",
              "      fill: #FFFFFF;\n",
              "    }\n",
              "  </style>\n",
              "\n",
              "      <script>\n",
              "        const buttonEl =\n",
              "          document.querySelector('#df-30e864a3-a181-4c01-8109-131da76cf31d button.colab-df-convert');\n",
              "        buttonEl.style.display =\n",
              "          google.colab.kernel.accessAllowed ? 'block' : 'none';\n",
              "\n",
              "        async function convertToInteractive(key) {\n",
              "          const element = document.querySelector('#df-30e864a3-a181-4c01-8109-131da76cf31d');\n",
              "          const dataTable =\n",
              "            await google.colab.kernel.invokeFunction('convertToInteractive',\n",
              "                                                     [key], {});\n",
              "          if (!dataTable) return;\n",
              "\n",
              "          const docLinkHtml = 'Like what you see? Visit the ' +\n",
              "            '<a target=\"_blank\" href=https://colab.research.google.com/notebooks/data_table.ipynb>data table notebook</a>'\n",
              "            + ' to learn more about interactive tables.';\n",
              "          element.innerHTML = '';\n",
              "          dataTable['output_type'] = 'display_data';\n",
              "          await google.colab.output.renderOutput(dataTable, element);\n",
              "          const docLink = document.createElement('div');\n",
              "          docLink.innerHTML = docLinkHtml;\n",
              "          element.appendChild(docLink);\n",
              "        }\n",
              "      </script>\n",
              "    </div>\n",
              "  </div>\n",
              "  "
            ]
          },
          "metadata": {},
          "execution_count": 14
        }
      ],
      "source": [
        "user_genre = pd.DataFrame(columns = ['userId','genre'])\n",
        "\n",
        "user_genre['userId'] = df['userId'].unique()\n",
        "# avg_rating\n",
        "# for i in range()\n",
        "user_genre.head()"
      ]
    },
    {
      "cell_type": "code",
      "execution_count": null,
      "metadata": {
        "colab": {
          "base_uri": "https://localhost:8080/",
          "height": 206
        },
        "id": "I9wfjiW8sR0E",
        "outputId": "dbcf5bcf-f1e9-4faf-98fe-c86690cf44c6"
      },
      "outputs": [
        {
          "output_type": "execute_result",
          "data": {
            "text/plain": [
              "   userId      genre\n",
              "0       1  Adventure\n",
              "1       2      Drama\n",
              "2       3     Sci-Fi\n",
              "3       4      Drama\n",
              "4       5      Drama"
            ],
            "text/html": [
              "\n",
              "  <div id=\"df-f95c30a0-655c-4525-af8d-281165c85c35\">\n",
              "    <div class=\"colab-df-container\">\n",
              "      <div>\n",
              "<style scoped>\n",
              "    .dataframe tbody tr th:only-of-type {\n",
              "        vertical-align: middle;\n",
              "    }\n",
              "\n",
              "    .dataframe tbody tr th {\n",
              "        vertical-align: top;\n",
              "    }\n",
              "\n",
              "    .dataframe thead th {\n",
              "        text-align: right;\n",
              "    }\n",
              "</style>\n",
              "<table border=\"1\" class=\"dataframe\">\n",
              "  <thead>\n",
              "    <tr style=\"text-align: right;\">\n",
              "      <th></th>\n",
              "      <th>userId</th>\n",
              "      <th>genre</th>\n",
              "    </tr>\n",
              "  </thead>\n",
              "  <tbody>\n",
              "    <tr>\n",
              "      <th>0</th>\n",
              "      <td>1</td>\n",
              "      <td>Adventure</td>\n",
              "    </tr>\n",
              "    <tr>\n",
              "      <th>1</th>\n",
              "      <td>2</td>\n",
              "      <td>Drama</td>\n",
              "    </tr>\n",
              "    <tr>\n",
              "      <th>2</th>\n",
              "      <td>3</td>\n",
              "      <td>Sci-Fi</td>\n",
              "    </tr>\n",
              "    <tr>\n",
              "      <th>3</th>\n",
              "      <td>4</td>\n",
              "      <td>Drama</td>\n",
              "    </tr>\n",
              "    <tr>\n",
              "      <th>4</th>\n",
              "      <td>5</td>\n",
              "      <td>Drama</td>\n",
              "    </tr>\n",
              "  </tbody>\n",
              "</table>\n",
              "</div>\n",
              "      <button class=\"colab-df-convert\" onclick=\"convertToInteractive('df-f95c30a0-655c-4525-af8d-281165c85c35')\"\n",
              "              title=\"Convert this dataframe to an interactive table.\"\n",
              "              style=\"display:none;\">\n",
              "        \n",
              "  <svg xmlns=\"http://www.w3.org/2000/svg\" height=\"24px\"viewBox=\"0 0 24 24\"\n",
              "       width=\"24px\">\n",
              "    <path d=\"M0 0h24v24H0V0z\" fill=\"none\"/>\n",
              "    <path d=\"M18.56 5.44l.94 2.06.94-2.06 2.06-.94-2.06-.94-.94-2.06-.94 2.06-2.06.94zm-11 1L8.5 8.5l.94-2.06 2.06-.94-2.06-.94L8.5 2.5l-.94 2.06-2.06.94zm10 10l.94 2.06.94-2.06 2.06-.94-2.06-.94-.94-2.06-.94 2.06-2.06.94z\"/><path d=\"M17.41 7.96l-1.37-1.37c-.4-.4-.92-.59-1.43-.59-.52 0-1.04.2-1.43.59L10.3 9.45l-7.72 7.72c-.78.78-.78 2.05 0 2.83L4 21.41c.39.39.9.59 1.41.59.51 0 1.02-.2 1.41-.59l7.78-7.78 2.81-2.81c.8-.78.8-2.07 0-2.86zM5.41 20L4 18.59l7.72-7.72 1.47 1.35L5.41 20z\"/>\n",
              "  </svg>\n",
              "      </button>\n",
              "      \n",
              "  <style>\n",
              "    .colab-df-container {\n",
              "      display:flex;\n",
              "      flex-wrap:wrap;\n",
              "      gap: 12px;\n",
              "    }\n",
              "\n",
              "    .colab-df-convert {\n",
              "      background-color: #E8F0FE;\n",
              "      border: none;\n",
              "      border-radius: 50%;\n",
              "      cursor: pointer;\n",
              "      display: none;\n",
              "      fill: #1967D2;\n",
              "      height: 32px;\n",
              "      padding: 0 0 0 0;\n",
              "      width: 32px;\n",
              "    }\n",
              "\n",
              "    .colab-df-convert:hover {\n",
              "      background-color: #E2EBFA;\n",
              "      box-shadow: 0px 1px 2px rgba(60, 64, 67, 0.3), 0px 1px 3px 1px rgba(60, 64, 67, 0.15);\n",
              "      fill: #174EA6;\n",
              "    }\n",
              "\n",
              "    [theme=dark] .colab-df-convert {\n",
              "      background-color: #3B4455;\n",
              "      fill: #D2E3FC;\n",
              "    }\n",
              "\n",
              "    [theme=dark] .colab-df-convert:hover {\n",
              "      background-color: #434B5C;\n",
              "      box-shadow: 0px 1px 3px 1px rgba(0, 0, 0, 0.15);\n",
              "      filter: drop-shadow(0px 1px 2px rgba(0, 0, 0, 0.3));\n",
              "      fill: #FFFFFF;\n",
              "    }\n",
              "  </style>\n",
              "\n",
              "      <script>\n",
              "        const buttonEl =\n",
              "          document.querySelector('#df-f95c30a0-655c-4525-af8d-281165c85c35 button.colab-df-convert');\n",
              "        buttonEl.style.display =\n",
              "          google.colab.kernel.accessAllowed ? 'block' : 'none';\n",
              "\n",
              "        async function convertToInteractive(key) {\n",
              "          const element = document.querySelector('#df-f95c30a0-655c-4525-af8d-281165c85c35');\n",
              "          const dataTable =\n",
              "            await google.colab.kernel.invokeFunction('convertToInteractive',\n",
              "                                                     [key], {});\n",
              "          if (!dataTable) return;\n",
              "\n",
              "          const docLinkHtml = 'Like what you see? Visit the ' +\n",
              "            '<a target=\"_blank\" href=https://colab.research.google.com/notebooks/data_table.ipynb>data table notebook</a>'\n",
              "            + ' to learn more about interactive tables.';\n",
              "          element.innerHTML = '';\n",
              "          dataTable['output_type'] = 'display_data';\n",
              "          await google.colab.output.renderOutput(dataTable, element);\n",
              "          const docLink = document.createElement('div');\n",
              "          docLink.innerHTML = docLinkHtml;\n",
              "          element.appendChild(docLink);\n",
              "        }\n",
              "      </script>\n",
              "    </div>\n",
              "  </div>\n",
              "  "
            ]
          },
          "metadata": {},
          "execution_count": 15
        }
      ],
      "source": [
        "temp = []\n",
        "for userId in user_genre['userId']:\n",
        "\n",
        "  r = df[df['userId']==userId]\n",
        "  user1_genres_count = dict()\n",
        "  user1_genre = dict()\n",
        "  for index, row in r.iterrows():\n",
        "    user_genres = row['genres'].split('|')\n",
        "    for ug in user_genres:\n",
        "      if ug not in user1_genres_count:\n",
        "        user1_genres_count[ug] = 0\n",
        "        user1_genre[ug] = []\n",
        "      user1_genres_count[ug] += 1\n",
        "      \n",
        "      # user1_genre[user_genre] = user1_genre[user_genre] * (user1_genres_count[user_genre] - 1)/(user1_genres_count[user_genre]) + 1/user1_genres_count[user_genre] * row['rating']\n",
        "      user1_genre[ug].append(row['rating'])\n",
        "  for g in user1_genre:\n",
        "    mo, f = stats.mode(user1_genre[g])\n",
        "    user1_genre[g] = mo*f\n",
        "\n",
        "  temp.append(max(user1_genre.items(), key = lambda item : item[1][0])[0])\n",
        "\n",
        "user_genre['genre'] = temp\n",
        "\n",
        "user_genre.head()\n",
        "\n",
        "  \n",
        "\n",
        "  \n",
        "\n",
        "  "
      ]
    },
    {
      "cell_type": "code",
      "execution_count": null,
      "metadata": {
        "id": "gEHu7Uo07_IM"
      },
      "outputs": [],
      "source": [
        "new_user_ratings = {59315:5, 88140: 4, 106072:5, 122892:4, 122904:5}\n",
        "new_user_genre = 'Action'"
      ]
    },
    {
      "cell_type": "code",
      "execution_count": null,
      "metadata": {
        "id": "eyDaPcLa_LeA"
      },
      "outputs": [],
      "source": [
        "intermediate_users = user_genre[user_genre['genre']==new_user_genre].userId.to_list()"
      ]
    },
    {
      "cell_type": "code",
      "execution_count": null,
      "metadata": {
        "id": "bbOxQsG6_kcH"
      },
      "outputs": [],
      "source": [
        "n_count = []\n",
        "n_rating = []\n",
        "for user in intermediate_users:\n",
        "  count = 0\n",
        "  user_rating = 0\n",
        "  checking = df[df['userId']==user]\n",
        "\n",
        "  for i in list(new_user_ratings.keys()):\n",
        "    if i in checking['movieId'].tolist():\n",
        "      count = count + 1\n",
        "      user_rating = user_rating + int(checking[checking['movieId'] == i].rating)\n",
        "  n_count.append(count)\n",
        "  n_rating.append(user_rating)\n",
        "  \n",
        "\n",
        "\n",
        "      \n"
      ]
    },
    {
      "cell_type": "code",
      "execution_count": null,
      "metadata": {
        "id": "Fheka7vhDYBX"
      },
      "outputs": [],
      "source": [
        "nearest_users = []\n",
        "nearest_users_rating = []\n",
        "index_pos = 0\n",
        "while True:\n",
        "  try:\n",
        "      # Search for item in list from indexPos to the end of list\n",
        "      index_pos = n_count.index(5, index_pos)\n",
        "      # Add the index position in list\n",
        "      nearest_users.append(intermediate_users[index_pos])\n",
        "      nearest_users_rating.append(n_rating[index_pos])\n",
        "\n",
        "      index_pos += 1\n",
        "  except ValueError as e:\n",
        "      break"
      ]
    },
    {
      "cell_type": "code",
      "execution_count": null,
      "metadata": {
        "colab": {
          "base_uri": "https://localhost:8080/"
        },
        "id": "cCt7PDakkWRo",
        "outputId": "e6fb37c7-03e5-4fe8-fd3f-70138df5ac16"
      },
      "outputs": [
        {
          "output_type": "execute_result",
          "data": {
            "text/plain": [
              "[21, 73, 249, 380, 534, 596]"
            ]
          },
          "metadata": {},
          "execution_count": 20
        }
      ],
      "source": [
        "nearest_users"
      ]
    },
    {
      "cell_type": "code",
      "execution_count": null,
      "metadata": {
        "colab": {
          "base_uri": "https://localhost:8080/"
        },
        "id": "AizbkgwOla03",
        "outputId": "fe1f6527-86c3-479b-ae56-3fc99a985632"
      },
      "outputs": [
        {
          "output_type": "execute_result",
          "data": {
            "text/plain": [
              "[16, 22, 20, 24, 19, 17]"
            ]
          },
          "metadata": {},
          "execution_count": 21
        }
      ],
      "source": [
        "nearest_users_rating"
      ]
    },
    {
      "cell_type": "code",
      "execution_count": null,
      "metadata": {
        "colab": {
          "base_uri": "https://localhost:8080/"
        },
        "id": "pNvrvz6knyA6",
        "outputId": "711efe92-2d40-4762-e26c-1aa6e823e783"
      },
      "outputs": [
        {
          "output_type": "execute_result",
          "data": {
            "text/plain": [
              "73"
            ]
          },
          "metadata": {},
          "execution_count": 22
        }
      ],
      "source": [
        "nearest_users[np.argmin(abs(np.array(nearest_users_rating) - sum(new_user_ratings.values())))]"
      ]
    },
    {
      "cell_type": "code",
      "source": [
        "user_genre.genre.unique()"
      ],
      "metadata": {
        "colab": {
          "base_uri": "https://localhost:8080/"
        },
        "id": "4PcUN3HaYFGj",
        "outputId": "28be3dd9-e0b5-4b3c-829e-47e6bc901546"
      },
      "execution_count": null,
      "outputs": [
        {
          "output_type": "execute_result",
          "data": {
            "text/plain": [
              "array(['Adventure', 'Drama', 'Sci-Fi', 'Action', 'Comedy', 'Romance',\n",
              "       'Horror', 'Children', 'Thriller', 'Crime', 'Animation', 'Fantasy',\n",
              "       'IMAX'], dtype=object)"
            ]
          },
          "metadata": {},
          "execution_count": 23
        }
      ]
    }
  ],
  "metadata": {
    "colab": {
      "provenance": []
    },
    "gpuClass": "standard",
    "kernelspec": {
      "display_name": "Python 3",
      "name": "python3"
    },
    "language_info": {
      "name": "python"
    }
  },
  "nbformat": 4,
  "nbformat_minor": 0
}